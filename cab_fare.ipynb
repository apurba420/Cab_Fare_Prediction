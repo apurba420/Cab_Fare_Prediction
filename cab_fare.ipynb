{
 "cells": [
  {
   "cell_type": "code",
   "execution_count": 1,
   "id": "afe747da",
   "metadata": {},
   "outputs": [
    {
     "name": "stdout",
     "output_type": "stream",
     "text": [
      "C:\\Users\\apurb\\Downloads\\cab_fare_prediction\n"
     ]
    }
   ],
   "source": [
    "cd Downloads\\\\cab_fare_prediction"
   ]
  },
  {
   "cell_type": "code",
   "execution_count": 2,
   "id": "5c235bdf",
   "metadata": {},
   "outputs": [],
   "source": [
    "# Import all the libraries\n",
    "import numpy as np\n",
    "import pandas as pd\n",
    "from sklearn import *\n",
    "import seaborn as sns\n",
    "from xgboost import *\n",
    "from sklearn.model_selection import train_test_split"
   ]
  },
  {
   "cell_type": "code",
   "execution_count": 3,
   "id": "260712d8",
   "metadata": {},
   "outputs": [],
   "source": [
    "# Import train and test dataset\n",
    "train = pd.read_csv(\"TRAIN.csv\")\n",
    "test = pd.read_csv(\"TEST.csv\")"
   ]
  },
  {
   "cell_type": "code",
   "execution_count": 4,
   "id": "94fbfbfb",
   "metadata": {
    "scrolled": true
   },
   "outputs": [],
   "source": [
    "# Combine both the dataset\n",
    "df = pd.concat([train,test]).reset_index(drop=True)"
   ]
  },
  {
   "cell_type": "code",
   "execution_count": 5,
   "id": "7c8a6de6",
   "metadata": {},
   "outputs": [
    {
     "data": {
      "text/html": [
       "<div>\n",
       "<style scoped>\n",
       "    .dataframe tbody tr th:only-of-type {\n",
       "        vertical-align: middle;\n",
       "    }\n",
       "\n",
       "    .dataframe tbody tr th {\n",
       "        vertical-align: top;\n",
       "    }\n",
       "\n",
       "    .dataframe thead th {\n",
       "        text-align: right;\n",
       "    }\n",
       "</style>\n",
       "<table border=\"1\" class=\"dataframe\">\n",
       "  <thead>\n",
       "    <tr style=\"text-align: right;\">\n",
       "      <th></th>\n",
       "      <th>index</th>\n",
       "      <th>time_stamp</th>\n",
       "      <th>cab_provider</th>\n",
       "      <th>source</th>\n",
       "      <th>destination</th>\n",
       "      <th>distance</th>\n",
       "      <th>surge_multiplier</th>\n",
       "      <th>cab_type</th>\n",
       "      <th>fare</th>\n",
       "    </tr>\n",
       "  </thead>\n",
       "  <tbody>\n",
       "    <tr>\n",
       "      <th>0</th>\n",
       "      <td>0</td>\n",
       "      <td>1543203646318</td>\n",
       "      <td>Lyft</td>\n",
       "      <td>Boston University</td>\n",
       "      <td>Theatre District</td>\n",
       "      <td>3.03</td>\n",
       "      <td>1.0</td>\n",
       "      <td>Lux Black XL</td>\n",
       "      <td>34.0</td>\n",
       "    </tr>\n",
       "    <tr>\n",
       "      <th>1</th>\n",
       "      <td>1</td>\n",
       "      <td>1543203646319</td>\n",
       "      <td>Uber</td>\n",
       "      <td>South Station</td>\n",
       "      <td>Theatre District</td>\n",
       "      <td>1.30</td>\n",
       "      <td>1.0</td>\n",
       "      <td>Black</td>\n",
       "      <td>18.5</td>\n",
       "    </tr>\n",
       "    <tr>\n",
       "      <th>2</th>\n",
       "      <td>2</td>\n",
       "      <td>1543203646320</td>\n",
       "      <td>Uber</td>\n",
       "      <td>Theatre District</td>\n",
       "      <td>Fenway</td>\n",
       "      <td>2.71</td>\n",
       "      <td>1.0</td>\n",
       "      <td>UberX</td>\n",
       "      <td>19.5</td>\n",
       "    </tr>\n",
       "    <tr>\n",
       "      <th>3</th>\n",
       "      <td>3</td>\n",
       "      <td>1543203646320</td>\n",
       "      <td>Lyft</td>\n",
       "      <td>Northeastern University</td>\n",
       "      <td>Beacon Hill</td>\n",
       "      <td>2.43</td>\n",
       "      <td>1.0</td>\n",
       "      <td>Lyft</td>\n",
       "      <td>10.5</td>\n",
       "    </tr>\n",
       "    <tr>\n",
       "      <th>4</th>\n",
       "      <td>4</td>\n",
       "      <td>1543203646320</td>\n",
       "      <td>Uber</td>\n",
       "      <td>Theatre District</td>\n",
       "      <td>Fenway</td>\n",
       "      <td>2.71</td>\n",
       "      <td>1.0</td>\n",
       "      <td>UberXL</td>\n",
       "      <td>32.0</td>\n",
       "    </tr>\n",
       "  </tbody>\n",
       "</table>\n",
       "</div>"
      ],
      "text/plain": [
       "   index     time_stamp cab_provider                   source  \\\n",
       "0      0  1543203646318         Lyft        Boston University   \n",
       "1      1  1543203646319         Uber            South Station   \n",
       "2      2  1543203646320         Uber         Theatre District   \n",
       "3      3  1543203646320         Lyft  Northeastern University   \n",
       "4      4  1543203646320         Uber         Theatre District   \n",
       "\n",
       "        destination  distance  surge_multiplier      cab_type  fare  \n",
       "0  Theatre District      3.03               1.0  Lux Black XL  34.0  \n",
       "1  Theatre District      1.30               1.0         Black  18.5  \n",
       "2            Fenway      2.71               1.0         UberX  19.5  \n",
       "3       Beacon Hill      2.43               1.0          Lyft  10.5  \n",
       "4            Fenway      2.71               1.0        UberXL  32.0  "
      ]
     },
     "execution_count": 5,
     "metadata": {},
     "output_type": "execute_result"
    }
   ],
   "source": [
    "df.head()"
   ]
  },
  {
   "cell_type": "code",
   "execution_count": 6,
   "id": "2dbaa920",
   "metadata": {},
   "outputs": [],
   "source": [
    "# Dropping the index column\n",
    "df.drop(\"index\", axis=1, inplace=True)"
   ]
  },
  {
   "cell_type": "code",
   "execution_count": 7,
   "id": "e983be55",
   "metadata": {},
   "outputs": [
    {
     "data": {
      "text/plain": [
       "time_stamp              0\n",
       "cab_provider            0\n",
       "source                  0\n",
       "destination             0\n",
       "distance                0\n",
       "surge_multiplier        0\n",
       "cab_type                0\n",
       "fare                25000\n",
       "dtype: int64"
      ]
     },
     "execution_count": 7,
     "metadata": {},
     "output_type": "execute_result"
    }
   ],
   "source": [
    "# Checking the number of null values per column\n",
    "df.isnull().sum()"
   ]
  },
  {
   "cell_type": "code",
   "execution_count": 8,
   "id": "2e499875",
   "metadata": {},
   "outputs": [],
   "source": [
    "# Converting the time_stamp column into timestamp datatype\n",
    "df['time_stamp'] = pd.to_datetime(df['time_stamp'], unit='ms')"
   ]
  },
  {
   "cell_type": "code",
   "execution_count": 9,
   "id": "537b360f",
   "metadata": {
    "scrolled": true
   },
   "outputs": [
    {
     "data": {
      "text/plain": [
       "count                           125000\n",
       "mean     2018-11-27 11:44:37.038046464\n",
       "min         2018-11-26 03:40:46.318000\n",
       "25%      2018-11-27 00:36:14.387000064\n",
       "50%      2018-11-27 11:15:22.329999872\n",
       "75%      2018-11-27 22:06:23.409999872\n",
       "max         2018-11-28 14:01:23.687000\n",
       "Name: time_stamp, dtype: object"
      ]
     },
     "execution_count": 9,
     "metadata": {},
     "output_type": "execute_result"
    }
   ],
   "source": [
    "# Checkng the datatime column\n",
    "df['time_stamp'].describe(datetime_is_numeric=True)"
   ]
  },
  {
   "cell_type": "code",
   "execution_count": 10,
   "id": "16a15af2",
   "metadata": {},
   "outputs": [],
   "source": [
    "# Returns the hour of the current time e.g. for 6:30 it will return 6\n",
    "def hour_convert(time):\n",
    "    return time.time().hour"
   ]
  },
  {
   "cell_type": "code",
   "execution_count": 11,
   "id": "d644236b",
   "metadata": {},
   "outputs": [],
   "source": [
    "# Converting the time_stamp with above function\n",
    "df['time_stamp'] = list(map(hour_convert, df['time_stamp']))"
   ]
  },
  {
   "cell_type": "code",
   "execution_count": 12,
   "id": "00cf43db",
   "metadata": {},
   "outputs": [],
   "source": [
    "# Change the data into 4 intervals\n",
    "def interval_convert(time):\n",
    "    if  0 <= time <= 6:\n",
    "        return 'midnight'\n",
    "    elif 7 <= time <=12:\n",
    "        return 'morning'\n",
    "    elif 13<= time <=19:\n",
    "        return 'mid-day'\n",
    "    else:\n",
    "        return 'Night'"
   ]
  },
  {
   "cell_type": "code",
   "execution_count": 13,
   "id": "ea0934e3",
   "metadata": {},
   "outputs": [],
   "source": [
    "df['time_stamp'] = list(map(interval_convert, df['time_stamp']))"
   ]
  },
  {
   "cell_type": "code",
   "execution_count": 14,
   "id": "4328371e",
   "metadata": {},
   "outputs": [],
   "source": [
    "# One-Hot-Encoding the new time_stamp column\n",
    "df = pd.get_dummies(df, columns=['time_stamp'])"
   ]
  },
  {
   "cell_type": "code",
   "execution_count": 15,
   "id": "ac28c025",
   "metadata": {},
   "outputs": [],
   "source": [
    "label_encoder = preprocessing.LabelEncoder()"
   ]
  },
  {
   "cell_type": "code",
   "execution_count": 16,
   "id": "d9ad600c",
   "metadata": {
    "scrolled": false
   },
   "outputs": [
    {
     "data": {
      "text/plain": [
       "array(['Lyft', 'Uber'], dtype=object)"
      ]
     },
     "execution_count": 16,
     "metadata": {},
     "output_type": "execute_result"
    }
   ],
   "source": [
    "df.cab_provider.unique()"
   ]
  },
  {
   "cell_type": "code",
   "execution_count": 17,
   "id": "14ea29c7",
   "metadata": {},
   "outputs": [],
   "source": [
    "# Label encoding the cab column\n",
    "df.cab_provider = df.cab_provider.replace({\"Lyft\":0, \"Uber\":1})"
   ]
  },
  {
   "cell_type": "code",
   "execution_count": 18,
   "id": "6dc8e7da",
   "metadata": {
    "scrolled": true
   },
   "outputs": [
    {
     "data": {
      "text/plain": [
       "cab_provider  surge_multiplier\n",
       "0             1.00                56075\n",
       "              1.25                 2168\n",
       "              1.50                  974\n",
       "              1.75                  500\n",
       "              2.00                  426\n",
       "              2.50                   31\n",
       "              3.00                    7\n",
       "1             1.00                64819\n",
       "Name: surge_multiplier, dtype: int64"
      ]
     },
     "execution_count": 18,
     "metadata": {},
     "output_type": "execute_result"
    }
   ],
   "source": [
    "df.groupby('cab_provider')['surge_multiplier'].value_counts()"
   ]
  },
  {
   "cell_type": "code",
   "execution_count": 19,
   "id": "e34e2031",
   "metadata": {},
   "outputs": [
    {
     "data": {
      "text/html": [
       "<div>\n",
       "<style scoped>\n",
       "    .dataframe tbody tr th:only-of-type {\n",
       "        vertical-align: middle;\n",
       "    }\n",
       "\n",
       "    .dataframe tbody tr th {\n",
       "        vertical-align: top;\n",
       "    }\n",
       "\n",
       "    .dataframe thead tr th {\n",
       "        text-align: left;\n",
       "    }\n",
       "\n",
       "    .dataframe thead tr:last-of-type th {\n",
       "        text-align: right;\n",
       "    }\n",
       "</style>\n",
       "<table border=\"1\" class=\"dataframe\">\n",
       "  <thead>\n",
       "    <tr>\n",
       "      <th></th>\n",
       "      <th></th>\n",
       "      <th>fare</th>\n",
       "      <th>distance</th>\n",
       "    </tr>\n",
       "    <tr>\n",
       "      <th></th>\n",
       "      <th></th>\n",
       "      <th>sum</th>\n",
       "      <th>sum</th>\n",
       "    </tr>\n",
       "    <tr>\n",
       "      <th>cab_provider</th>\n",
       "      <th>cab_type</th>\n",
       "      <th></th>\n",
       "      <th></th>\n",
       "    </tr>\n",
       "  </thead>\n",
       "  <tbody>\n",
       "    <tr>\n",
       "      <th rowspan=\"6\" valign=\"top\">0</th>\n",
       "      <th>Lux</th>\n",
       "      <td>142537.50</td>\n",
       "      <td>21692.49</td>\n",
       "    </tr>\n",
       "    <tr>\n",
       "      <th>Lux Black</th>\n",
       "      <td>182295.85</td>\n",
       "      <td>21594.48</td>\n",
       "    </tr>\n",
       "    <tr>\n",
       "      <th>Lux Black XL</th>\n",
       "      <td>261187.00</td>\n",
       "      <td>21947.28</td>\n",
       "    </tr>\n",
       "    <tr>\n",
       "      <th>Lyft</th>\n",
       "      <td>76316.85</td>\n",
       "      <td>21916.79</td>\n",
       "    </tr>\n",
       "    <tr>\n",
       "      <th>Lyft XL</th>\n",
       "      <td>123695.60</td>\n",
       "      <td>22059.06</td>\n",
       "    </tr>\n",
       "    <tr>\n",
       "      <th>Shared</th>\n",
       "      <td>48162.00</td>\n",
       "      <td>21887.74</td>\n",
       "    </tr>\n",
       "    <tr>\n",
       "      <th rowspan=\"6\" valign=\"top\">1</th>\n",
       "      <th>Black</th>\n",
       "      <td>179532.00</td>\n",
       "      <td>23882.24</td>\n",
       "    </tr>\n",
       "    <tr>\n",
       "      <th>Black SUV</th>\n",
       "      <td>263908.50</td>\n",
       "      <td>23809.24</td>\n",
       "    </tr>\n",
       "    <tr>\n",
       "      <th>UberPool</th>\n",
       "      <td>75015.50</td>\n",
       "      <td>23413.93</td>\n",
       "    </tr>\n",
       "    <tr>\n",
       "      <th>UberX</th>\n",
       "      <td>84022.50</td>\n",
       "      <td>23614.21</td>\n",
       "    </tr>\n",
       "    <tr>\n",
       "      <th>UberXL</th>\n",
       "      <td>136330.50</td>\n",
       "      <td>23870.87</td>\n",
       "    </tr>\n",
       "    <tr>\n",
       "      <th>WAV</th>\n",
       "      <td>84097.50</td>\n",
       "      <td>23632.71</td>\n",
       "    </tr>\n",
       "  </tbody>\n",
       "</table>\n",
       "</div>"
      ],
      "text/plain": [
       "                                fare  distance\n",
       "                                 sum       sum\n",
       "cab_provider cab_type                         \n",
       "0            Lux           142537.50  21692.49\n",
       "             Lux Black     182295.85  21594.48\n",
       "             Lux Black XL  261187.00  21947.28\n",
       "             Lyft           76316.85  21916.79\n",
       "             Lyft XL       123695.60  22059.06\n",
       "             Shared         48162.00  21887.74\n",
       "1            Black         179532.00  23882.24\n",
       "             Black SUV     263908.50  23809.24\n",
       "             UberPool       75015.50  23413.93\n",
       "             UberX          84022.50  23614.21\n",
       "             UberXL        136330.50  23870.87\n",
       "             WAV            84097.50  23632.71"
      ]
     },
     "execution_count": 19,
     "metadata": {},
     "output_type": "execute_result"
    }
   ],
   "source": [
    "# Aggregating fare and distance per cab_type\n",
    "df.groupby(['cab_provider','cab_type']).agg({'fare':['sum'], 'distance':['sum']})"
   ]
  },
  {
   "cell_type": "code",
   "execution_count": 20,
   "id": "5ad6ee2e",
   "metadata": {},
   "outputs": [
    {
     "data": {
      "text/plain": [
       "array([[ 6.57082244],\n",
       "       [ 8.44178003],\n",
       "       [11.90065466],\n",
       "       [ 3.48211805],\n",
       "       [ 5.60747375],\n",
       "       [ 2.20040991],\n",
       "       [ 7.5173853 ],\n",
       "       [11.08428912],\n",
       "       [ 3.20388333],\n",
       "       [ 3.55813301],\n",
       "       [ 5.71116595],\n",
       "       [ 3.55852122]])"
      ]
     },
     "execution_count": 20,
     "metadata": {},
     "output_type": "execute_result"
    }
   ],
   "source": [
    "# Calculating the cost of Cab_type per KiloMeter\n",
    "df.groupby(['cab_provider','cab_type']).agg({'fare':['sum']}).values / df.groupby(['cab_provider','cab_type']).agg({'distance':['sum']}).values"
   ]
  },
  {
   "cell_type": "code",
   "execution_count": 21,
   "id": "508de019",
   "metadata": {
    "scrolled": true
   },
   "outputs": [],
   "source": [
    "# Creating new feature with the above data\n",
    "df['USD/KM'] = df.cab_type.replace({'Lux':6.6, 'Lux Black':8.4, 'Lux Black XL':11.9, 'Lyft':3.5, 'Lyft XL':5.6, 'Shared':2.2,\n",
    "                       'Black':7.5, 'Black SUV':11.1, 'UberPool':3.2, 'UberX':3.5, 'UberXL':5.7, 'WAV':3.6})"
   ]
  },
  {
   "cell_type": "code",
   "execution_count": 22,
   "id": "83d9ec3e",
   "metadata": {},
   "outputs": [],
   "source": [
    "#Encoding USD/KM column with 3 category\n",
    "def usd_km_convert(price):\n",
    "    if 2.2<= price <=4:\n",
    "        return 'Budget_class'\n",
    "    elif 4< price <=7.5:\n",
    "        return 'Mid_class'\n",
    "    else:\n",
    "        return 'High_class'"
   ]
  },
  {
   "cell_type": "code",
   "execution_count": 23,
   "id": "7bdd0a80",
   "metadata": {},
   "outputs": [],
   "source": [
    "df['USD/KM'] = list(map(usd_km_convert, df['USD/KM']))"
   ]
  },
  {
   "cell_type": "code",
   "execution_count": 24,
   "id": "9cd3d2a5",
   "metadata": {},
   "outputs": [],
   "source": [
    "# One-Hot-Encoding the new USD/KM column\n",
    "df = pd.get_dummies(df, columns=['USD/KM'])"
   ]
  },
  {
   "cell_type": "code",
   "execution_count": 25,
   "id": "c203d58d",
   "metadata": {},
   "outputs": [],
   "source": [
    "# One-Hot-Encoding the new cab_type column\n",
    "df = pd.get_dummies(df, columns=['cab_type'])"
   ]
  },
  {
   "cell_type": "code",
   "execution_count": 26,
   "id": "ad91d32a",
   "metadata": {
    "scrolled": true
   },
   "outputs": [
    {
     "data": {
      "text/plain": [
       "array(['Boston University', 'South Station', 'Theatre District',\n",
       "       'Northeastern University', 'Beacon Hill', 'North Station',\n",
       "       'West End', 'North End', 'Haymarket Square', 'Financial District',\n",
       "       'Fenway', 'Back Bay'], dtype=object)"
      ]
     },
     "execution_count": 26,
     "metadata": {},
     "output_type": "execute_result"
    }
   ],
   "source": [
    "df.source.unique()"
   ]
  },
  {
   "cell_type": "code",
   "execution_count": 27,
   "id": "5d114551",
   "metadata": {},
   "outputs": [],
   "source": [
    "# One-Hot-Encoding the new source column\n",
    "df = pd.get_dummies(df, columns=['source'])"
   ]
  },
  {
   "cell_type": "code",
   "execution_count": 28,
   "id": "cd2e2190",
   "metadata": {
    "scrolled": false
   },
   "outputs": [
    {
     "data": {
      "text/plain": [
       "0         3.03\n",
       "1         1.30\n",
       "2         2.71\n",
       "3         2.43\n",
       "4         2.71\n",
       "          ... \n",
       "124995    3.05\n",
       "124996    3.05\n",
       "124997    3.05\n",
       "124998    2.96\n",
       "124999    2.96\n",
       "Name: distance, Length: 125000, dtype: float64"
      ]
     },
     "execution_count": 28,
     "metadata": {},
     "output_type": "execute_result"
    }
   ],
   "source": [
    "df.distance"
   ]
  },
  {
   "cell_type": "code",
   "execution_count": 29,
   "id": "4b98cb68",
   "metadata": {},
   "outputs": [],
   "source": [
    "# Dividing the Distance column into 4 intervals\n",
    "df.distance = pd.cut(df['distance'], 4)"
   ]
  },
  {
   "cell_type": "code",
   "execution_count": 30,
   "id": "f403fb9f",
   "metadata": {},
   "outputs": [],
   "source": [
    "# After dividing, label encode them \n",
    "df['distance']= label_encoder.fit_transform(df['distance'])"
   ]
  },
  {
   "cell_type": "code",
   "execution_count": 31,
   "id": "0527b987",
   "metadata": {},
   "outputs": [],
   "source": [
    "# One-Hot-Encoding the destination column\n",
    "df = pd.get_dummies(df, columns=['destination'])"
   ]
  },
  {
   "cell_type": "code",
   "execution_count": 32,
   "id": "29e65b0d",
   "metadata": {
    "scrolled": true
   },
   "outputs": [
    {
     "data": {
      "text/plain": [
       "1.00    120894\n",
       "1.25      2168\n",
       "1.50       974\n",
       "1.75       500\n",
       "2.00       426\n",
       "2.50        31\n",
       "3.00         7\n",
       "Name: surge_multiplier, dtype: int64"
      ]
     },
     "execution_count": 32,
     "metadata": {},
     "output_type": "execute_result"
    }
   ],
   "source": [
    "df['surge_multiplier'].value_counts()"
   ]
  },
  {
   "cell_type": "code",
   "execution_count": 33,
   "id": "31c4086d",
   "metadata": {
    "scrolled": false
   },
   "outputs": [],
   "source": [
    "# One-Hot-Encoding the new surge_multiplier column\n",
    "df['surge_multiplier'] = label_encoder.fit_transform(df['surge_multiplier'])"
   ]
  },
  {
   "cell_type": "code",
   "execution_count": 34,
   "id": "d75a6edb",
   "metadata": {},
   "outputs": [],
   "source": [
    "# Returning whether multiplier applied or not\n",
    "def multi(num):\n",
    "    if num==1.0:\n",
    "        return 0\n",
    "    else:\n",
    "        return 1"
   ]
  },
  {
   "cell_type": "code",
   "execution_count": 35,
   "id": "a144e4d9",
   "metadata": {},
   "outputs": [],
   "source": [
    "# Creating a column of that data\n",
    "df['multiplier_applied'] = list(map(multi, df['surge_multiplier']))"
   ]
  },
  {
   "cell_type": "code",
   "execution_count": 36,
   "id": "b1bd3af6",
   "metadata": {},
   "outputs": [],
   "source": [
    "# Splitting the original data back into its original form\n",
    "train_df = df[:100000]\n",
    "test_df = df[100000:].drop('fare', axis=1)"
   ]
  },
  {
   "cell_type": "code",
   "execution_count": 37,
   "id": "171bc358",
   "metadata": {
    "scrolled": false
   },
   "outputs": [],
   "source": [
    "# Splitting the features and target columns\n",
    "X = train_df.drop('fare', axis=1)\n",
    "y = train_df['fare']/np.array(train_df['fare'].mean())"
   ]
  },
  {
   "cell_type": "code",
   "execution_count": 38,
   "id": "ab06cd35",
   "metadata": {},
   "outputs": [],
   "source": [
    "# Splitting the train data train and test for model training\n",
    "X_train, X_test, y_train, y_test = train_test_split(X, y, test_size = 0.25, random_state=42)"
   ]
  },
  {
   "cell_type": "code",
   "execution_count": 39,
   "id": "800bd812",
   "metadata": {},
   "outputs": [],
   "source": [
    "# Initiating the XGB Model with hyperparameters\n",
    "xgb_model = XGBRegressor(base_score=0.4, booster='gbtree', colsample_bylevel=1,\n",
    "             colsample_bynode=1, colsample_bytree=0.4603, gamma=0.05,\n",
    "             gpu_id=0, importance_type='gain', interaction_constraints='',\n",
    "             learning_rate=0.999, max_delta_step=1, max_depth=4,\n",
    "             min_child_weight=1.7817, monotone_constraints='()',\n",
    "             n_estimators=220, n_jobs=3, nthread=-1, num_parallel_tree=5,\n",
    "             random_state=8, reg_alpha=0.364, reg_lambda=0.671,\n",
    "             scale_pos_weight=1, subsample=0.5213,silent = True,tree_method='exact',\n",
    "             validate_parameters=1, verbosity=0)"
   ]
  },
  {
   "cell_type": "code",
   "execution_count": 40,
   "id": "d9c6f2e5",
   "metadata": {},
   "outputs": [
    {
     "data": {
      "text/plain": [
       "0.010219205956161478"
      ]
     },
     "execution_count": 40,
     "metadata": {},
     "output_type": "execute_result"
    }
   ],
   "source": [
    "# Fitting the data, predicting on the splitted test data and calculating the mean squared error\n",
    "xgb_model.fit(X_test.values, y_test.values)\n",
    "pred = xgb_model.predict(X_test.values)\n",
    "metrics.mean_squared_error(y_test, pred)"
   ]
  },
  {
   "cell_type": "code",
   "execution_count": 41,
   "id": "db5b6fa0",
   "metadata": {},
   "outputs": [],
   "source": [
    "# Predicting on the original test data\n",
    "Prediction = xgb_model.predict(test_df.values)*(np.array(train_df['fare'].mean()))"
   ]
  },
  {
   "cell_type": "code",
   "execution_count": 42,
   "id": "9e64c97b",
   "metadata": {},
   "outputs": [],
   "source": [
    "# Creating a empty DataFrame\n",
    "submission = pd.DataFrame()"
   ]
  },
  {
   "cell_type": "code",
   "execution_count": 43,
   "id": "03de3c4d",
   "metadata": {
    "scrolled": true
   },
   "outputs": [],
   "source": [
    "# Putting the prediction in submission csv file\n",
    "submission['fare'] = Prediction"
   ]
  },
  {
   "cell_type": "code",
   "execution_count": 44,
   "id": "8cc6fb2c",
   "metadata": {},
   "outputs": [
    {
     "data": {
      "text/html": [
       "<div>\n",
       "<style scoped>\n",
       "    .dataframe tbody tr th:only-of-type {\n",
       "        vertical-align: middle;\n",
       "    }\n",
       "\n",
       "    .dataframe tbody tr th {\n",
       "        vertical-align: top;\n",
       "    }\n",
       "\n",
       "    .dataframe thead th {\n",
       "        text-align: right;\n",
       "    }\n",
       "</style>\n",
       "<table border=\"1\" class=\"dataframe\">\n",
       "  <thead>\n",
       "    <tr style=\"text-align: right;\">\n",
       "      <th></th>\n",
       "      <th>fare</th>\n",
       "    </tr>\n",
       "  </thead>\n",
       "  <tbody>\n",
       "    <tr>\n",
       "      <th>0</th>\n",
       "      <td>11.982113</td>\n",
       "    </tr>\n",
       "    <tr>\n",
       "      <th>1</th>\n",
       "      <td>26.594723</td>\n",
       "    </tr>\n",
       "    <tr>\n",
       "      <th>2</th>\n",
       "      <td>17.443310</td>\n",
       "    </tr>\n",
       "    <tr>\n",
       "      <th>3</th>\n",
       "      <td>13.308193</td>\n",
       "    </tr>\n",
       "    <tr>\n",
       "      <th>4</th>\n",
       "      <td>10.503002</td>\n",
       "    </tr>\n",
       "    <tr>\n",
       "      <th>...</th>\n",
       "      <td>...</td>\n",
       "    </tr>\n",
       "    <tr>\n",
       "      <th>24995</th>\n",
       "      <td>9.878730</td>\n",
       "    </tr>\n",
       "    <tr>\n",
       "      <th>24996</th>\n",
       "      <td>10.726671</td>\n",
       "    </tr>\n",
       "    <tr>\n",
       "      <th>24997</th>\n",
       "      <td>33.247150</td>\n",
       "    </tr>\n",
       "    <tr>\n",
       "      <th>24998</th>\n",
       "      <td>7.165320</td>\n",
       "    </tr>\n",
       "    <tr>\n",
       "      <th>24999</th>\n",
       "      <td>19.992147</td>\n",
       "    </tr>\n",
       "  </tbody>\n",
       "</table>\n",
       "<p>25000 rows × 1 columns</p>\n",
       "</div>"
      ],
      "text/plain": [
       "            fare\n",
       "0      11.982113\n",
       "1      26.594723\n",
       "2      17.443310\n",
       "3      13.308193\n",
       "4      10.503002\n",
       "...          ...\n",
       "24995   9.878730\n",
       "24996  10.726671\n",
       "24997  33.247150\n",
       "24998   7.165320\n",
       "24999  19.992147\n",
       "\n",
       "[25000 rows x 1 columns]"
      ]
     },
     "execution_count": 44,
     "metadata": {},
     "output_type": "execute_result"
    }
   ],
   "source": [
    "submission"
   ]
  },
  {
   "cell_type": "code",
   "execution_count": null,
   "id": "9a952b83",
   "metadata": {},
   "outputs": [],
   "source": []
  }
 ],
 "metadata": {
  "kernelspec": {
   "display_name": "Python 3",
   "language": "python",
   "name": "python3"
  },
  "language_info": {
   "codemirror_mode": {
    "name": "ipython",
    "version": 3
   },
   "file_extension": ".py",
   "mimetype": "text/x-python",
   "name": "python",
   "nbconvert_exporter": "python",
   "pygments_lexer": "ipython3",
   "version": "3.8.10"
  }
 },
 "nbformat": 4,
 "nbformat_minor": 5
}
